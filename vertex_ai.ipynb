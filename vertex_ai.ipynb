{
 "cells": [
  {
   "cell_type": "markdown",
   "id": "77c5c7d0-955d-4e85-ae35-003d84d03431",
   "metadata": {},
   "source": [
    "\n",
    "<font size=\"5\"> Creating variables and downloading libriaries  </font>"
   ]
  },
  {
   "cell_type": "code",
   "execution_count": 33,
   "id": "38c51412-4a16-4f0f-a06c-5b41366e4758",
   "metadata": {},
   "outputs": [
    {
     "name": "stdout",
     "output_type": "stream",
     "text": [
      "Updated property [core/project].\n"
     ]
    }
   ],
   "source": [
    "PROJECT_ID = \"clean-sylph-377411\"\n",
    "# Set the project id\n",
    "! gcloud config set project {PROJECT_ID}"
   ]
  },
  {
   "cell_type": "code",
   "execution_count": 34,
   "id": "cefe34f1-6cea-4350-850b-19eff12a728b",
   "metadata": {},
   "outputs": [
    {
     "name": "stdout",
     "output_type": "stream",
     "text": [
      "Your current GCP Project Name is: clean-sylph-377411\n"
     ]
    }
   ],
   "source": [
    "%%bash\n",
    "export PROJECT=$(gcloud config list project --format \"value(core.project)\")\n",
    "echo \"Your current GCP Project Name is: \"$PROJECT\n"
   ]
  },
  {
   "cell_type": "code",
   "execution_count": 35,
   "id": "60869b9f-7049-473b-a82e-fb1be1867ca5",
   "metadata": {},
   "outputs": [
    {
     "name": "stdout",
     "output_type": "stream",
     "text": [
      "Requirement already satisfied: google-cloud-bigquery==3.4.1 in /home/jupyter/.local/lib/python3.10/site-packages (3.4.1)\n",
      "Requirement already satisfied: grpcio<2.0dev,>=1.47.0 in /opt/conda/lib/python3.10/site-packages (from google-cloud-bigquery==3.4.1) (1.51.3)\n",
      "Requirement already satisfied: google-api-core[grpc]!=2.0.*,!=2.1.*,!=2.2.*,!=2.3.0,<3.0.0dev,>=1.31.5 in /opt/conda/lib/python3.10/site-packages (from google-cloud-bigquery==3.4.1) (1.34.0)\n",
      "Requirement already satisfied: proto-plus<2.0.0dev,>=1.15.0 in /opt/conda/lib/python3.10/site-packages (from google-cloud-bigquery==3.4.1) (1.22.2)\n",
      "Requirement already satisfied: google-cloud-core<3.0.0dev,>=1.4.1 in /opt/conda/lib/python3.10/site-packages (from google-cloud-bigquery==3.4.1) (2.3.2)\n",
      "Requirement already satisfied: google-resumable-media<3.0dev,>=0.6.0 in /opt/conda/lib/python3.10/site-packages (from google-cloud-bigquery==3.4.1) (2.5.0)\n",
      "Requirement already satisfied: packaging<22.0.0dev,>=14.3 in /home/jupyter/.local/lib/python3.10/site-packages (from google-cloud-bigquery==3.4.1) (21.3)\n",
      "Requirement already satisfied: protobuf!=3.20.0,!=3.20.1,!=4.21.0,!=4.21.1,!=4.21.2,!=4.21.3,!=4.21.4,!=4.21.5,<5.0.0dev,>=3.19.5 in /opt/conda/lib/python3.10/site-packages (from google-cloud-bigquery==3.4.1) (3.20.3)\n",
      "Requirement already satisfied: python-dateutil<3.0dev,>=2.7.2 in /opt/conda/lib/python3.10/site-packages (from google-cloud-bigquery==3.4.1) (2.8.2)\n",
      "Requirement already satisfied: requests<3.0.0dev,>=2.21.0 in /opt/conda/lib/python3.10/site-packages (from google-cloud-bigquery==3.4.1) (2.28.2)\n",
      "Requirement already satisfied: googleapis-common-protos<2.0dev,>=1.56.2 in /opt/conda/lib/python3.10/site-packages (from google-api-core[grpc]!=2.0.*,!=2.1.*,!=2.2.*,!=2.3.0,<3.0.0dev,>=1.31.5->google-cloud-bigquery==3.4.1) (1.59.0)\n",
      "Requirement already satisfied: google-auth<3.0dev,>=1.25.0 in /opt/conda/lib/python3.10/site-packages (from google-api-core[grpc]!=2.0.*,!=2.1.*,!=2.2.*,!=2.3.0,<3.0.0dev,>=1.31.5->google-cloud-bigquery==3.4.1) (2.17.3)\n",
      "Requirement already satisfied: grpcio-status<2.0dev,>=1.33.2 in /opt/conda/lib/python3.10/site-packages (from google-api-core[grpc]!=2.0.*,!=2.1.*,!=2.2.*,!=2.3.0,<3.0.0dev,>=1.31.5->google-cloud-bigquery==3.4.1) (1.48.2)\n",
      "Requirement already satisfied: google-crc32c<2.0dev,>=1.0 in /opt/conda/lib/python3.10/site-packages (from google-resumable-media<3.0dev,>=0.6.0->google-cloud-bigquery==3.4.1) (1.5.0)\n",
      "Requirement already satisfied: pyparsing!=3.0.5,>=2.0.2 in /opt/conda/lib/python3.10/site-packages (from packaging<22.0.0dev,>=14.3->google-cloud-bigquery==3.4.1) (3.0.9)\n",
      "Requirement already satisfied: six>=1.5 in /opt/conda/lib/python3.10/site-packages (from python-dateutil<3.0dev,>=2.7.2->google-cloud-bigquery==3.4.1) (1.16.0)\n",
      "Requirement already satisfied: charset-normalizer<4,>=2 in /opt/conda/lib/python3.10/site-packages (from requests<3.0.0dev,>=2.21.0->google-cloud-bigquery==3.4.1) (3.1.0)\n",
      "Requirement already satisfied: idna<4,>=2.5 in /opt/conda/lib/python3.10/site-packages (from requests<3.0.0dev,>=2.21.0->google-cloud-bigquery==3.4.1) (3.4)\n",
      "Requirement already satisfied: urllib3<1.27,>=1.21.1 in /opt/conda/lib/python3.10/site-packages (from requests<3.0.0dev,>=2.21.0->google-cloud-bigquery==3.4.1) (1.26.15)\n",
      "Requirement already satisfied: certifi>=2017.4.17 in /opt/conda/lib/python3.10/site-packages (from requests<3.0.0dev,>=2.21.0->google-cloud-bigquery==3.4.1) (2022.12.7)\n",
      "Requirement already satisfied: cachetools<6.0,>=2.0.0 in /opt/conda/lib/python3.10/site-packages (from google-auth<3.0dev,>=1.25.0->google-api-core[grpc]!=2.0.*,!=2.1.*,!=2.2.*,!=2.3.0,<3.0.0dev,>=1.31.5->google-cloud-bigquery==3.4.1) (5.3.0)\n",
      "Requirement already satisfied: pyasn1-modules>=0.2.1 in /opt/conda/lib/python3.10/site-packages (from google-auth<3.0dev,>=1.25.0->google-api-core[grpc]!=2.0.*,!=2.1.*,!=2.2.*,!=2.3.0,<3.0.0dev,>=1.31.5->google-cloud-bigquery==3.4.1) (0.3.0)\n",
      "Requirement already satisfied: rsa<5,>=3.1.4 in /opt/conda/lib/python3.10/site-packages (from google-auth<3.0dev,>=1.25.0->google-api-core[grpc]!=2.0.*,!=2.1.*,!=2.2.*,!=2.3.0,<3.0.0dev,>=1.31.5->google-cloud-bigquery==3.4.1) (4.9)\n",
      "Requirement already satisfied: pyasn1<0.6.0,>=0.4.6 in /opt/conda/lib/python3.10/site-packages (from pyasn1-modules>=0.2.1->google-auth<3.0dev,>=1.25.0->google-api-core[grpc]!=2.0.*,!=2.1.*,!=2.2.*,!=2.3.0,<3.0.0dev,>=1.31.5->google-cloud-bigquery==3.4.1) (0.5.0)\n"
     ]
    }
   ],
   "source": [
    "!pip install --user google-cloud-bigquery==3.4.1\n"
   ]
  },
  {
   "cell_type": "code",
   "execution_count": 36,
   "id": "bc0c7aeb-f603-48cb-85b8-fceba7b55c07",
   "metadata": {},
   "outputs": [],
   "source": [
    "import pandas as pd\n",
    "from google.cloud import bigquery"
   ]
  },
  {
   "cell_type": "markdown",
   "id": "2c598182-159c-4f0a-b3e4-25fe7dca9bb7",
   "metadata": {},
   "source": [
    "<font size=\"4\">Creating a dataset in Bigquery</font>"
   ]
  },
  {
   "cell_type": "code",
   "execution_count": 37,
   "id": "ca33d958-1aba-4e6d-a66d-f774acd4c7d4",
   "metadata": {},
   "outputs": [
    {
     "name": "stderr",
     "output_type": "stream",
     "text": [
      "W0623 12:12:40.929300 140226700347200 bigquery_client.py:731] There is no apilog flag so non-critical logging is disabled.\n"
     ]
    },
    {
     "name": "stdout",
     "output_type": "stream",
     "text": [
      "Creating BigQuery dataset titled: scr\n"
     ]
    },
    {
     "name": "stderr",
     "output_type": "stream",
     "text": [
      "W0623 12:12:42.399314 140049134421824 bigquery_client.py:731] There is no apilog flag so non-critical logging is disabled.\n"
     ]
    },
    {
     "name": "stdout",
     "output_type": "stream",
     "text": [
      "Dataset 'clean-sylph-377411:scr' successfully created.\n",
      "\\nHere are your current datasets:\n"
     ]
    },
    {
     "name": "stderr",
     "output_type": "stream",
     "text": [
      "W0623 12:12:45.017961 140264637028160 bigquery_client.py:731] There is no apilog flag so non-critical logging is disabled.\n"
     ]
    },
    {
     "name": "stdout",
     "output_type": "stream",
     "text": [
      "  datasetId  \n",
      " ----------- \n",
      "  agr        \n",
      "  dataproc   \n",
      "  kpr        \n",
      "  logging    \n",
      "  scr        \n",
      "  temp       \n"
     ]
    }
   ],
   "source": [
    "%%bash\n",
    "# Create a BigQuery dataset for feat_eng if it doesn't exist\n",
    "datasetexists=$(bq ls -d | grep -w scr)\n",
    "\n",
    "if [ -n \"$datasetexists\" ]; then\n",
    "    echo -e \"BigQuery dataset already exists, let's not recreate it.\"\n",
    "\n",
    "else\n",
    "    echo \"Creating BigQuery dataset titled: scr\"\n",
    "    \n",
    "    bq --location=EU mk --dataset \\\n",
    "        --description 'Transactions' \\\n",
    "        $PROJECT:scr\n",
    "   echo \"\\nHere are your current datasets:\"\n",
    "   bq ls\n",
    "fi"
   ]
  },
  {
   "cell_type": "markdown",
   "id": "b181e4f6-5dc8-4c9b-952f-33609a150003",
   "metadata": {},
   "source": [
    "<font size=\"4\"> Deleting a dataset in Bigquery</font>"
   ]
  },
  {
   "cell_type": "code",
   "execution_count": 38,
   "id": "069285b8-67ff-435f-a60b-bc8b1519e5ed",
   "metadata": {},
   "outputs": [
    {
     "name": "stdout",
     "output_type": "stream",
     "text": [
      "W0623 12:13:14.770269 140274879461184 bigquery_client.py:731] There is no apilog flag so non-critical logging is disabled.\n"
     ]
    }
   ],
   "source": [
    "! bq rm -f -d scr"
   ]
  },
  {
   "cell_type": "code",
   "execution_count": null,
   "id": "20b451fb-2367-48dd-979e-c11fbaf6d0fc",
   "metadata": {},
   "outputs": [],
   "source": [
    "%%bash\n",
    "# Create a BigQuery dataset for feat_eng if it doesn't exist\n",
    "datasetexists=$(bq ls -d | grep -w scr)\n",
    "echo $datasetexists"
   ]
  },
  {
   "cell_type": "markdown",
   "id": "77a93f4c-b54b-4d9e-af26-265f034f5904",
   "metadata": {},
   "source": [
    "<font size=\"4\">Creating Cloud Storage bucket</font>"
   ]
  },
  {
   "cell_type": "code",
   "execution_count": 39,
   "id": "45758da6-fc15-455e-833e-de6da3dde468",
   "metadata": {},
   "outputs": [],
   "source": [
    "REGION = 'europe-west1-a'\n",
    "BUCKET_NAME = 'new_bucket_dar'\n",
    "LOCATION = 'US'"
   ]
  },
  {
   "cell_type": "code",
   "execution_count": 40,
   "id": "1f596d42-496b-4003-a8d6-8fa2233511ec",
   "metadata": {},
   "outputs": [
    {
     "name": "stdout",
     "output_type": "stream",
     "text": [
      "Creating gs://new_bucket_dar/...\n"
     ]
    }
   ],
   "source": [
    "! gsutil mb  gs://{BUCKET_NAME}"
   ]
  },
  {
   "cell_type": "markdown",
   "id": "725fd061-8866-4907-85dd-49e631c75729",
   "metadata": {},
   "source": [
    "<font size=\"4\">Creating a bucket in Cloud Store using a python function</font>\n"
   ]
  },
  {
   "cell_type": "code",
   "execution_count": 42,
   "id": "f3227479-9af3-48f2-b85b-55dfb4158b14",
   "metadata": {},
   "outputs": [
    {
     "data": {
      "text/plain": [
       "<Bucket: new_bucket_dar>"
      ]
     },
     "execution_count": 42,
     "metadata": {},
     "output_type": "execute_result"
    }
   ],
   "source": [
    "from google.cloud import storage\n",
    "def create_bucket(name):\n",
    "    storage_client = storage.Client()\n",
    "    bucket = storage_client.bucket(name)\n",
    "    bucket.storage_class = \"NEARLINE\"\n",
    "    new_bucket = storage_client.create_bucket(bucket, location=\"us\")\n",
    "    \n",
    "    return new_bucket\n",
    "\n",
    "\n",
    "create_bucket('new_bucket_dar')"
   ]
  },
  {
   "cell_type": "code",
   "execution_count": 43,
   "id": "8fd7afe8-7e69-485d-b3ba-763f2823f0ca",
   "metadata": {},
   "outputs": [
    {
     "name": "stdout",
     "output_type": "stream",
     "text": [
      "gs://dataproc-staging-europe-west1-939977190002-svj9vud5/\n",
      "gs://dataproc-temp-europe-west1-939977190002-qath1mhx/\n",
      "gs://dataproc_mcc_proc/\n",
      "gs://europe-west1-composer-685142e3-bucket/\n",
      "gs://europe-west1-composer-9fffa81e-bucket/\n",
      "gs://new_bucket_dar/\n"
     ]
    }
   ],
   "source": [
    "! gsutil ls -la"
   ]
  },
  {
   "cell_type": "markdown",
   "id": "f072e5d0-2ab0-40bf-98a4-a75b266249a8",
   "metadata": {},
   "source": [
    "\n",
    "<font size=\"5\">Usuwanie bucketu z Cloud Storage</font>"
   ]
  },
  {
   "cell_type": "code",
   "execution_count": 44,
   "id": "2dabe9d0-3b43-40b9-ba3d-394aad58f26f",
   "metadata": {},
   "outputs": [
    {
     "name": "stdout",
     "output_type": "stream",
     "text": [
      "Removing gs://new_bucket_dar/...\n"
     ]
    }
   ],
   "source": [
    "! gsutil rm -r gs://new_bucket_dar/"
   ]
  },
  {
   "cell_type": "markdown",
   "id": "b4ab0e70-e4a6-4857-bd9a-a950e1fd49d6",
   "metadata": {},
   "source": [
    "\n",
    "<font size=\"5\">Tworzenie i usuwanie plików</font>"
   ]
  },
  {
   "cell_type": "code",
   "execution_count": 45,
   "id": "ecf59b68-23c9-4bfb-aeca-472bf2ce9790",
   "metadata": {},
   "outputs": [],
   "source": [
    "! touch file.py\n",
    "! echo \"print('Hello DAR')\" >> file_python.py"
   ]
  },
  {
   "cell_type": "code",
   "execution_count": 46,
   "id": "dd338db2-a834-4967-a54c-37b9b3944bf1",
   "metadata": {},
   "outputs": [],
   "source": [
    "! rm file.py"
   ]
  },
  {
   "cell_type": "code",
   "execution_count": 47,
   "id": "dfbacfe0-18c3-4e00-ab65-94cd37f6d832",
   "metadata": {},
   "outputs": [
    {
     "name": "stdout",
     "output_type": "stream",
     "text": [
      "Hello DAR\n"
     ]
    }
   ],
   "source": [
    "! python3 file_python.py"
   ]
  },
  {
   "cell_type": "code",
   "execution_count": null,
   "id": "81dcc9fc-a43e-48c1-840c-0523709b4e05",
   "metadata": {},
   "outputs": [],
   "source": [
    "! rm file_python.py"
   ]
  },
  {
   "cell_type": "markdown",
   "id": "994ba103-87e5-4d22-ab5a-2776169ad86e",
   "metadata": {},
   "source": [
    "\n",
    "<font size=\"5\">Korzystanie z BigQuery</font>"
   ]
  },
  {
   "cell_type": "code",
   "execution_count": 48,
   "id": "0621a2c2-11e4-4e97-9ead-da9562569f81",
   "metadata": {},
   "outputs": [
    {
     "data": {
      "application/vnd.jupyter.widget-view+json": {
       "model_id": "841eaf898de14e9dad3dfb0c7528e643",
       "version_major": 2,
       "version_minor": 0
      },
      "text/plain": [
       "Query is running:   0%|          |"
      ]
     },
     "metadata": {},
     "output_type": "display_data"
    },
    {
     "data": {
      "application/vnd.jupyter.widget-view+json": {
       "model_id": "0c42c5575af149f9b02bd4d14a343ce9",
       "version_major": 2,
       "version_minor": 0
      },
      "text/plain": [
       "Downloading:   0%|          |"
      ]
     },
     "metadata": {},
     "output_type": "display_data"
    },
    {
     "data": {
      "text/html": [
       "<div>\n",
       "<style scoped>\n",
       "    .dataframe tbody tr th:only-of-type {\n",
       "        vertical-align: middle;\n",
       "    }\n",
       "\n",
       "    .dataframe tbody tr th {\n",
       "        vertical-align: top;\n",
       "    }\n",
       "\n",
       "    .dataframe thead th {\n",
       "        text-align: right;\n",
       "    }\n",
       "</style>\n",
       "<table border=\"1\" class=\"dataframe\">\n",
       "  <thead>\n",
       "    <tr style=\"text-align: right;\">\n",
       "      <th></th>\n",
       "      <th>crnt_acct_trx_key</th>\n",
       "      <th>due_dt</th>\n",
       "      <th>sys_cd</th>\n",
       "      <th>tech_etl_pkg_cd</th>\n",
       "      <th>tech_insert_id</th>\n",
       "      <th>tech_insert_ts</th>\n",
       "      <th>acct_key</th>\n",
       "      <th>bank_id</th>\n",
       "      <th>kir_branch_id</th>\n",
       "      <th>contract_id</th>\n",
       "      <th>...</th>\n",
       "      <th>sender_acct_key</th>\n",
       "      <th>sender_acct_id</th>\n",
       "      <th>sender_orig_acct_id</th>\n",
       "      <th>sender_nm_address</th>\n",
       "      <th>receiver_acct_key</th>\n",
       "      <th>receiver_acct_id</th>\n",
       "      <th>receiver_orig_acct_id</th>\n",
       "      <th>receiver_nm_address</th>\n",
       "      <th>gcp_etl_pkg_cd</th>\n",
       "      <th>gcp_due_dt</th>\n",
       "    </tr>\n",
       "  </thead>\n",
       "  <tbody>\n",
       "    <tr>\n",
       "      <th>0</th>\n",
       "      <td>DEEZT7QU4TC0000106500V8UY7C9MT0U</td>\n",
       "      <td>2021-10-31 00:00:00+00:00</td>\n",
       "      <td>OZSI</td>\n",
       "      <td>OHIO_01</td>\n",
       "      <td>1910.000000000</td>\n",
       "      <td>2022-09-30 00:00:00+00:00</td>\n",
       "      <td>36V8G4K00RO0000125424PYSNY7W6HWA</td>\n",
       "      <td>1020</td>\n",
       "      <td>1910</td>\n",
       "      <td>200252544</td>\n",
       "      <td>...</td>\n",
       "      <td>78VL3C3Z66ZAF5P23MSSDVQ7PPA654A2</td>\n",
       "      <td>6.22339743290108e+25</td>\n",
       "      <td>4.9588458200366106e+25</td>\n",
       "      <td>adres NaDawcy</td>\n",
       "      <td>HAM1JVXR2NU9XM8BW0AHXPSDEGKO5E8D</td>\n",
       "      <td>2.2262865283490475e+25</td>\n",
       "      <td>2.458078489641657e+25</td>\n",
       "      <td>adres odbiorcy</td>\n",
       "      <td>None</td>\n",
       "      <td>NaT</td>\n",
       "    </tr>\n",
       "    <tr>\n",
       "      <th>1</th>\n",
       "      <td>14JSVREAVE6000009771421I4TRRAWOR</td>\n",
       "      <td>2021-10-31 00:00:00+00:00</td>\n",
       "      <td>OZSI</td>\n",
       "      <td>OHIO_01</td>\n",
       "      <td>1910.000000000</td>\n",
       "      <td>2022-09-30 00:00:00+00:00</td>\n",
       "      <td>FSE80V60L370000143989X1SBBNG9O2Z</td>\n",
       "      <td>1020</td>\n",
       "      <td>1910</td>\n",
       "      <td>223950411</td>\n",
       "      <td>...</td>\n",
       "      <td>Z4TAU8285KODNDO21LRBY4GRNE5CJHBH</td>\n",
       "      <td>1.3757732244150529e+25</td>\n",
       "      <td>8.40472153257022e+25</td>\n",
       "      <td>adres NaDawcy</td>\n",
       "      <td>5CUD4YO396IQB6QAXB4GW4Z6Y3XAA6OF</td>\n",
       "      <td>7.941150923413318e+25</td>\n",
       "      <td>2.3330741342044113e+25</td>\n",
       "      <td>adres odbiorcy</td>\n",
       "      <td>None</td>\n",
       "      <td>NaT</td>\n",
       "    </tr>\n",
       "    <tr>\n",
       "      <th>2</th>\n",
       "      <td>FEEPC0A8WMC0000084085GGYMOIN1OJ4</td>\n",
       "      <td>2021-10-31 00:00:00+00:00</td>\n",
       "      <td>OZSI</td>\n",
       "      <td>OHIO_01</td>\n",
       "      <td>1910.000000000</td>\n",
       "      <td>2022-09-30 00:00:00+00:00</td>\n",
       "      <td>ALV6VWV1UIU0000031266EBUXBODI3HV</td>\n",
       "      <td>1020</td>\n",
       "      <td>1910</td>\n",
       "      <td>200990713</td>\n",
       "      <td>...</td>\n",
       "      <td>ITHE0ULMR131SB8IJI7QLUBRGEQY6Y5K</td>\n",
       "      <td>1.8145706863990374e+25</td>\n",
       "      <td>7.7232275218506229e+25</td>\n",
       "      <td>adres NaDawcy</td>\n",
       "      <td>K2F91AUREZ1X0MJ3HFVV5SIL98C6CF3F</td>\n",
       "      <td>2.2602642324125118e+25</td>\n",
       "      <td>5.5165413998405507e+25</td>\n",
       "      <td>adres odbiorcy</td>\n",
       "      <td>None</td>\n",
       "      <td>NaT</td>\n",
       "    </tr>\n",
       "    <tr>\n",
       "      <th>3</th>\n",
       "      <td>GUMNGZZ8F2S00000440372QVD0DIIUW6</td>\n",
       "      <td>2021-10-31 00:00:00+00:00</td>\n",
       "      <td>OZSI</td>\n",
       "      <td>OHIO_01</td>\n",
       "      <td>1910.000000000</td>\n",
       "      <td>2022-09-30 00:00:00+00:00</td>\n",
       "      <td>ZNS5KMTGM470000072432CJ0ZEPXVCZE</td>\n",
       "      <td>1020</td>\n",
       "      <td>1910</td>\n",
       "      <td>209885981</td>\n",
       "      <td>...</td>\n",
       "      <td>UKIUTD1HH1M2CMAL1KA2QJLU5BH72NWO</td>\n",
       "      <td>2.4674956421108515e+25</td>\n",
       "      <td>9.5774154551116973e+25</td>\n",
       "      <td>adres NaDawcy</td>\n",
       "      <td>MYRS4LMK8VTDNC4E3X62VB9ZXN3D6WKI</td>\n",
       "      <td>7.5263738368549845e+25</td>\n",
       "      <td>3.9661785846257689e+25</td>\n",
       "      <td>adres odbiorcy</td>\n",
       "      <td>None</td>\n",
       "      <td>NaT</td>\n",
       "    </tr>\n",
       "    <tr>\n",
       "      <th>4</th>\n",
       "      <td>S0A4YPSK8260000223294N1BO0HK6LE0</td>\n",
       "      <td>2021-10-31 00:00:00+00:00</td>\n",
       "      <td>OZSI</td>\n",
       "      <td>OHIO_01</td>\n",
       "      <td>1910.000000000</td>\n",
       "      <td>2022-09-30 00:00:00+00:00</td>\n",
       "      <td>EV36RD0GX9K00001279427PSJBZZ9SCB</td>\n",
       "      <td>1020</td>\n",
       "      <td>1910</td>\n",
       "      <td>200866251</td>\n",
       "      <td>...</td>\n",
       "      <td>DQSB4CNHNO4OQAZUHSTA6VYFRHX2C31D</td>\n",
       "      <td>2.8965626551132681e+25</td>\n",
       "      <td>7.0343873323905332e+25</td>\n",
       "      <td>adres NaDawcy</td>\n",
       "      <td>H14CIINP8YZYM3TYZGA6AMJODWBFZFFM</td>\n",
       "      <td>5.0741947768683117e+25</td>\n",
       "      <td>8.66683823781185e+25</td>\n",
       "      <td>adres odbiorcy</td>\n",
       "      <td>None</td>\n",
       "      <td>NaT</td>\n",
       "    </tr>\n",
       "    <tr>\n",
       "      <th>...</th>\n",
       "      <td>...</td>\n",
       "      <td>...</td>\n",
       "      <td>...</td>\n",
       "      <td>...</td>\n",
       "      <td>...</td>\n",
       "      <td>...</td>\n",
       "      <td>...</td>\n",
       "      <td>...</td>\n",
       "      <td>...</td>\n",
       "      <td>...</td>\n",
       "      <td>...</td>\n",
       "      <td>...</td>\n",
       "      <td>...</td>\n",
       "      <td>...</td>\n",
       "      <td>...</td>\n",
       "      <td>...</td>\n",
       "      <td>...</td>\n",
       "      <td>...</td>\n",
       "      <td>...</td>\n",
       "      <td>...</td>\n",
       "      <td>...</td>\n",
       "    </tr>\n",
       "    <tr>\n",
       "      <th>38331</th>\n",
       "      <td>5HUEE9TEP0Q000023669906OC1IOAHSK</td>\n",
       "      <td>2021-10-31 00:00:00+00:00</td>\n",
       "      <td>OZSI</td>\n",
       "      <td>OHIO_01</td>\n",
       "      <td>1910.000000000</td>\n",
       "      <td>2022-09-30 00:00:00+00:00</td>\n",
       "      <td>171BIU3SKL000000611492PYAJLVU1FS</td>\n",
       "      <td>1020</td>\n",
       "      <td>1910</td>\n",
       "      <td>202947158</td>\n",
       "      <td>...</td>\n",
       "      <td>JTBS4696Q40TR01JCV35I3X3E6V0EH0V</td>\n",
       "      <td>5.2636902533546446e+25</td>\n",
       "      <td>2.618688449513056e+25</td>\n",
       "      <td>adres NaDawcy</td>\n",
       "      <td>9L7F5F81XHCFSV6U2CBE93P8UCWY1GSD</td>\n",
       "      <td>2.6648912422762349e+25</td>\n",
       "      <td>5.5365011368623212e+25</td>\n",
       "      <td>adres odbiorcy</td>\n",
       "      <td>None</td>\n",
       "      <td>NaT</td>\n",
       "    </tr>\n",
       "    <tr>\n",
       "      <th>38332</th>\n",
       "      <td>JCD1UO8TPT20000282724MUZSXG0GA8U</td>\n",
       "      <td>2021-10-31 00:00:00+00:00</td>\n",
       "      <td>OZSI</td>\n",
       "      <td>OHIO_01</td>\n",
       "      <td>1910.000000000</td>\n",
       "      <td>2022-09-30 00:00:00+00:00</td>\n",
       "      <td>2P1CWQPGKRG00000250302U74TZ8PODS</td>\n",
       "      <td>1020</td>\n",
       "      <td>1910</td>\n",
       "      <td>203285673</td>\n",
       "      <td>...</td>\n",
       "      <td>KQEGS6W32FQKECX6VJH7ANLJ12I2M6SK</td>\n",
       "      <td>8.2223638609226346e+25</td>\n",
       "      <td>8.1742406992886029e+25</td>\n",
       "      <td>adres NaDawcy</td>\n",
       "      <td>BN3SH0P22Y02SWEVTUTVTO1HCXF9LICJ</td>\n",
       "      <td>8.1355939915635391e+25</td>\n",
       "      <td>2.9531109068795935e+25</td>\n",
       "      <td>adres odbiorcy</td>\n",
       "      <td>None</td>\n",
       "      <td>NaT</td>\n",
       "    </tr>\n",
       "    <tr>\n",
       "      <th>38333</th>\n",
       "      <td>6HI4E5N1GMM00001954726SL4MMN055C</td>\n",
       "      <td>2021-10-31 00:00:00+00:00</td>\n",
       "      <td>OZSI</td>\n",
       "      <td>OHIO_01</td>\n",
       "      <td>1910.000000000</td>\n",
       "      <td>2022-09-30 00:00:00+00:00</td>\n",
       "      <td>NZJO0UFYF90000005718116ACBR8CZPO</td>\n",
       "      <td>1020</td>\n",
       "      <td>1910</td>\n",
       "      <td>201945641</td>\n",
       "      <td>...</td>\n",
       "      <td>NYL34GI3V8LKWRCV2BDRSZG9GIRS64OO</td>\n",
       "      <td>8.2408484143564982e+25</td>\n",
       "      <td>1.0935634449633332e+25</td>\n",
       "      <td>adres NaDawcy</td>\n",
       "      <td>PS0D5M527U050FLLNRTN11FP9N82D5M4</td>\n",
       "      <td>2.8173472122076922e+25</td>\n",
       "      <td>9.2505301859934616e+25</td>\n",
       "      <td>adres odbiorcy</td>\n",
       "      <td>None</td>\n",
       "      <td>NaT</td>\n",
       "    </tr>\n",
       "    <tr>\n",
       "      <th>38334</th>\n",
       "      <td>60HGENQN66S00000231669QGUBR16EIP</td>\n",
       "      <td>2021-10-31 00:00:00+00:00</td>\n",
       "      <td>OZSI</td>\n",
       "      <td>OHIO_01</td>\n",
       "      <td>1910.000000000</td>\n",
       "      <td>2022-09-30 00:00:00+00:00</td>\n",
       "      <td>7HJKF460YGN0000088138HK4UE9MIXXK</td>\n",
       "      <td>1020</td>\n",
       "      <td>1910</td>\n",
       "      <td>200229096</td>\n",
       "      <td>...</td>\n",
       "      <td>TK4G6MTBI05825NIJWY8YP6ND6AC3XRU</td>\n",
       "      <td>9.6897648267778733e+25</td>\n",
       "      <td>4.4760763495174732e+25</td>\n",
       "      <td>adres NaDawcy</td>\n",
       "      <td>GGC06AKOKS0VJMVV1HYIARMV9PBC00SE</td>\n",
       "      <td>2.8421673432860111e+25</td>\n",
       "      <td>3.8295817713774543e+25</td>\n",
       "      <td>adres odbiorcy</td>\n",
       "      <td>None</td>\n",
       "      <td>NaT</td>\n",
       "    </tr>\n",
       "    <tr>\n",
       "      <th>38335</th>\n",
       "      <td>V788UI4O18R00002168548CQTA3N0AQR</td>\n",
       "      <td>2021-10-31 00:00:00+00:00</td>\n",
       "      <td>OZSI</td>\n",
       "      <td>OHIO_01</td>\n",
       "      <td>1910.000000000</td>\n",
       "      <td>2022-09-30 00:00:00+00:00</td>\n",
       "      <td>IPKVUOJI4F3000004778347ZG1L55B9B</td>\n",
       "      <td>1020</td>\n",
       "      <td>1910</td>\n",
       "      <td>202654242</td>\n",
       "      <td>...</td>\n",
       "      <td>7MUFURB5T0CJ9N0A6P62F64D3TI0I8T6</td>\n",
       "      <td>9.8728502998972066e+25</td>\n",
       "      <td>1.8071276754986022e+25</td>\n",
       "      <td>adres NaDawcy</td>\n",
       "      <td>8ITPZD2CDUYJ4762XFDW8NGNXMJET5Y5</td>\n",
       "      <td>7.63242587886645e+25</td>\n",
       "      <td>8.6441827075615363e+25</td>\n",
       "      <td>adres odbiorcy</td>\n",
       "      <td>None</td>\n",
       "      <td>NaT</td>\n",
       "    </tr>\n",
       "  </tbody>\n",
       "</table>\n",
       "<p>38336 rows × 46 columns</p>\n",
       "</div>"
      ],
      "text/plain": [
       "                      crnt_acct_trx_key                    due_dt sys_cd  \\\n",
       "0      DEEZT7QU4TC0000106500V8UY7C9MT0U 2021-10-31 00:00:00+00:00   OZSI   \n",
       "1      14JSVREAVE6000009771421I4TRRAWOR 2021-10-31 00:00:00+00:00   OZSI   \n",
       "2      FEEPC0A8WMC0000084085GGYMOIN1OJ4 2021-10-31 00:00:00+00:00   OZSI   \n",
       "3      GUMNGZZ8F2S00000440372QVD0DIIUW6 2021-10-31 00:00:00+00:00   OZSI   \n",
       "4      S0A4YPSK8260000223294N1BO0HK6LE0 2021-10-31 00:00:00+00:00   OZSI   \n",
       "...                                 ...                       ...    ...   \n",
       "38331  5HUEE9TEP0Q000023669906OC1IOAHSK 2021-10-31 00:00:00+00:00   OZSI   \n",
       "38332  JCD1UO8TPT20000282724MUZSXG0GA8U 2021-10-31 00:00:00+00:00   OZSI   \n",
       "38333  6HI4E5N1GMM00001954726SL4MMN055C 2021-10-31 00:00:00+00:00   OZSI   \n",
       "38334  60HGENQN66S00000231669QGUBR16EIP 2021-10-31 00:00:00+00:00   OZSI   \n",
       "38335  V788UI4O18R00002168548CQTA3N0AQR 2021-10-31 00:00:00+00:00   OZSI   \n",
       "\n",
       "      tech_etl_pkg_cd  tech_insert_id            tech_insert_ts  \\\n",
       "0             OHIO_01  1910.000000000 2022-09-30 00:00:00+00:00   \n",
       "1             OHIO_01  1910.000000000 2022-09-30 00:00:00+00:00   \n",
       "2             OHIO_01  1910.000000000 2022-09-30 00:00:00+00:00   \n",
       "3             OHIO_01  1910.000000000 2022-09-30 00:00:00+00:00   \n",
       "4             OHIO_01  1910.000000000 2022-09-30 00:00:00+00:00   \n",
       "...               ...             ...                       ...   \n",
       "38331         OHIO_01  1910.000000000 2022-09-30 00:00:00+00:00   \n",
       "38332         OHIO_01  1910.000000000 2022-09-30 00:00:00+00:00   \n",
       "38333         OHIO_01  1910.000000000 2022-09-30 00:00:00+00:00   \n",
       "38334         OHIO_01  1910.000000000 2022-09-30 00:00:00+00:00   \n",
       "38335         OHIO_01  1910.000000000 2022-09-30 00:00:00+00:00   \n",
       "\n",
       "                               acct_key bank_id kir_branch_id contract_id  \\\n",
       "0      36V8G4K00RO0000125424PYSNY7W6HWA    1020          1910   200252544   \n",
       "1      FSE80V60L370000143989X1SBBNG9O2Z    1020          1910   223950411   \n",
       "2      ALV6VWV1UIU0000031266EBUXBODI3HV    1020          1910   200990713   \n",
       "3      ZNS5KMTGM470000072432CJ0ZEPXVCZE    1020          1910   209885981   \n",
       "4      EV36RD0GX9K00001279427PSJBZZ9SCB    1020          1910   200866251   \n",
       "...                                 ...     ...           ...         ...   \n",
       "38331  171BIU3SKL000000611492PYAJLVU1FS    1020          1910   202947158   \n",
       "38332  2P1CWQPGKRG00000250302U74TZ8PODS    1020          1910   203285673   \n",
       "38333  NZJO0UFYF90000005718116ACBR8CZPO    1020          1910   201945641   \n",
       "38334  7HJKF460YGN0000088138HK4UE9MIXXK    1020          1910   200229096   \n",
       "38335  IPKVUOJI4F3000004778347ZG1L55B9B    1020          1910   202654242   \n",
       "\n",
       "       ...                   sender_acct_key          sender_acct_id  \\\n",
       "0      ...  78VL3C3Z66ZAF5P23MSSDVQ7PPA654A2    6.22339743290108e+25   \n",
       "1      ...  Z4TAU8285KODNDO21LRBY4GRNE5CJHBH  1.3757732244150529e+25   \n",
       "2      ...  ITHE0ULMR131SB8IJI7QLUBRGEQY6Y5K  1.8145706863990374e+25   \n",
       "3      ...  UKIUTD1HH1M2CMAL1KA2QJLU5BH72NWO  2.4674956421108515e+25   \n",
       "4      ...  DQSB4CNHNO4OQAZUHSTA6VYFRHX2C31D  2.8965626551132681e+25   \n",
       "...    ...                               ...                     ...   \n",
       "38331  ...  JTBS4696Q40TR01JCV35I3X3E6V0EH0V  5.2636902533546446e+25   \n",
       "38332  ...  KQEGS6W32FQKECX6VJH7ANLJ12I2M6SK  8.2223638609226346e+25   \n",
       "38333  ...  NYL34GI3V8LKWRCV2BDRSZG9GIRS64OO  8.2408484143564982e+25   \n",
       "38334  ...  TK4G6MTBI05825NIJWY8YP6ND6AC3XRU  9.6897648267778733e+25   \n",
       "38335  ...  7MUFURB5T0CJ9N0A6P62F64D3TI0I8T6  9.8728502998972066e+25   \n",
       "\n",
       "          sender_orig_acct_id sender_nm_address  \\\n",
       "0      4.9588458200366106e+25     adres NaDawcy   \n",
       "1        8.40472153257022e+25     adres NaDawcy   \n",
       "2      7.7232275218506229e+25     adres NaDawcy   \n",
       "3      9.5774154551116973e+25     adres NaDawcy   \n",
       "4      7.0343873323905332e+25     adres NaDawcy   \n",
       "...                       ...               ...   \n",
       "38331   2.618688449513056e+25     adres NaDawcy   \n",
       "38332  8.1742406992886029e+25     adres NaDawcy   \n",
       "38333  1.0935634449633332e+25     adres NaDawcy   \n",
       "38334  4.4760763495174732e+25     adres NaDawcy   \n",
       "38335  1.8071276754986022e+25     adres NaDawcy   \n",
       "\n",
       "                      receiver_acct_key        receiver_acct_id  \\\n",
       "0      HAM1JVXR2NU9XM8BW0AHXPSDEGKO5E8D  2.2262865283490475e+25   \n",
       "1      5CUD4YO396IQB6QAXB4GW4Z6Y3XAA6OF   7.941150923413318e+25   \n",
       "2      K2F91AUREZ1X0MJ3HFVV5SIL98C6CF3F  2.2602642324125118e+25   \n",
       "3      MYRS4LMK8VTDNC4E3X62VB9ZXN3D6WKI  7.5263738368549845e+25   \n",
       "4      H14CIINP8YZYM3TYZGA6AMJODWBFZFFM  5.0741947768683117e+25   \n",
       "...                                 ...                     ...   \n",
       "38331  9L7F5F81XHCFSV6U2CBE93P8UCWY1GSD  2.6648912422762349e+25   \n",
       "38332  BN3SH0P22Y02SWEVTUTVTO1HCXF9LICJ  8.1355939915635391e+25   \n",
       "38333  PS0D5M527U050FLLNRTN11FP9N82D5M4  2.8173472122076922e+25   \n",
       "38334  GGC06AKOKS0VJMVV1HYIARMV9PBC00SE  2.8421673432860111e+25   \n",
       "38335  8ITPZD2CDUYJ4762XFDW8NGNXMJET5Y5    7.63242587886645e+25   \n",
       "\n",
       "        receiver_orig_acct_id receiver_nm_address gcp_etl_pkg_cd gcp_due_dt  \n",
       "0       2.458078489641657e+25      adres odbiorcy           None        NaT  \n",
       "1      2.3330741342044113e+25      adres odbiorcy           None        NaT  \n",
       "2      5.5165413998405507e+25      adres odbiorcy           None        NaT  \n",
       "3      3.9661785846257689e+25      adres odbiorcy           None        NaT  \n",
       "4        8.66683823781185e+25      adres odbiorcy           None        NaT  \n",
       "...                       ...                 ...            ...        ...  \n",
       "38331  5.5365011368623212e+25      adres odbiorcy           None        NaT  \n",
       "38332  2.9531109068795935e+25      adres odbiorcy           None        NaT  \n",
       "38333  9.2505301859934616e+25      adres odbiorcy           None        NaT  \n",
       "38334  3.8295817713774543e+25      adres odbiorcy           None        NaT  \n",
       "38335  8.6441827075615363e+25      adres odbiorcy           None        NaT  \n",
       "\n",
       "[38336 rows x 46 columns]"
      ]
     },
     "execution_count": 48,
     "metadata": {},
     "output_type": "execute_result"
    }
   ],
   "source": [
    "%%bigquery\n",
    "SELECT * FROM `clean-sylph-377411.kpr.t11207_crnt_acct_trx_fcd` where DUE_DT = '2021-10-31'"
   ]
  },
  {
   "cell_type": "code",
   "execution_count": 49,
   "id": "fd1c2d34-f5fb-40b8-9b67-b0fdfaddb630",
   "metadata": {},
   "outputs": [],
   "source": [
    "BQ_TABLE = \"clean-sylph-377411.t11207_crnt_acct_trx_fcd\""
   ]
  },
  {
   "cell_type": "code",
   "execution_count": 50,
   "id": "1f9ab828-0782-43fa-87c5-38d8d4349e63",
   "metadata": {},
   "outputs": [
    {
     "name": "stdout",
     "output_type": "stream",
     "text": [
      "clean-sylph-377411.t11207_crnt_acct_trx_fcd\n"
     ]
    }
   ],
   "source": [
    "! echo $BQ_TABLE"
   ]
  },
  {
   "cell_type": "code",
   "execution_count": 51,
   "id": "03c1ae16-6e1f-41d5-90fc-b4081768239f",
   "metadata": {},
   "outputs": [],
   "source": [
    "bqclient = bigquery.Client(project=PROJECT_ID)"
   ]
  },
  {
   "cell_type": "code",
   "execution_count": 52,
   "id": "70974ec5-bb38-40df-bc0d-ae805caf7865",
   "metadata": {},
   "outputs": [
    {
     "name": "stdout",
     "output_type": "stream",
     "text": [
      "                  crnt_acct_trx_key                    due_dt sys_cd  \\\n",
      "0  DEEZT7QU4TC0000106500V8UY7C9MT0U 2021-10-31 00:00:00+00:00   OZSI   \n",
      "1  14JSVREAVE6000009771421I4TRRAWOR 2021-10-31 00:00:00+00:00   OZSI   \n",
      "2  FEEPC0A8WMC0000084085GGYMOIN1OJ4 2021-10-31 00:00:00+00:00   OZSI   \n",
      "3  GUMNGZZ8F2S00000440372QVD0DIIUW6 2021-10-31 00:00:00+00:00   OZSI   \n",
      "4  S0A4YPSK8260000223294N1BO0HK6LE0 2021-10-31 00:00:00+00:00   OZSI   \n",
      "\n",
      "  tech_etl_pkg_cd  tech_insert_id            tech_insert_ts  \\\n",
      "0         OHIO_01  1910.000000000 2022-09-30 00:00:00+00:00   \n",
      "1         OHIO_01  1910.000000000 2022-09-30 00:00:00+00:00   \n",
      "2         OHIO_01  1910.000000000 2022-09-30 00:00:00+00:00   \n",
      "3         OHIO_01  1910.000000000 2022-09-30 00:00:00+00:00   \n",
      "4         OHIO_01  1910.000000000 2022-09-30 00:00:00+00:00   \n",
      "\n",
      "                           acct_key bank_id kir_branch_id contract_id  ...  \\\n",
      "0  36V8G4K00RO0000125424PYSNY7W6HWA    1020          1910   200252544  ...   \n",
      "1  FSE80V60L370000143989X1SBBNG9O2Z    1020          1910   223950411  ...   \n",
      "2  ALV6VWV1UIU0000031266EBUXBODI3HV    1020          1910   200990713  ...   \n",
      "3  ZNS5KMTGM470000072432CJ0ZEPXVCZE    1020          1910   209885981  ...   \n",
      "4  EV36RD0GX9K00001279427PSJBZZ9SCB    1020          1910   200866251  ...   \n",
      "\n",
      "                    sender_acct_key          sender_acct_id  \\\n",
      "0  78VL3C3Z66ZAF5P23MSSDVQ7PPA654A2    6.22339743290108e+25   \n",
      "1  Z4TAU8285KODNDO21LRBY4GRNE5CJHBH  1.3757732244150529e+25   \n",
      "2  ITHE0ULMR131SB8IJI7QLUBRGEQY6Y5K  1.8145706863990374e+25   \n",
      "3  UKIUTD1HH1M2CMAL1KA2QJLU5BH72NWO  2.4674956421108515e+25   \n",
      "4  DQSB4CNHNO4OQAZUHSTA6VYFRHX2C31D  2.8965626551132681e+25   \n",
      "\n",
      "      sender_orig_acct_id sender_nm_address                 receiver_acct_key  \\\n",
      "0  4.9588458200366106e+25     adres NaDawcy  HAM1JVXR2NU9XM8BW0AHXPSDEGKO5E8D   \n",
      "1    8.40472153257022e+25     adres NaDawcy  5CUD4YO396IQB6QAXB4GW4Z6Y3XAA6OF   \n",
      "2  7.7232275218506229e+25     adres NaDawcy  K2F91AUREZ1X0MJ3HFVV5SIL98C6CF3F   \n",
      "3  9.5774154551116973e+25     adres NaDawcy  MYRS4LMK8VTDNC4E3X62VB9ZXN3D6WKI   \n",
      "4  7.0343873323905332e+25     adres NaDawcy  H14CIINP8YZYM3TYZGA6AMJODWBFZFFM   \n",
      "\n",
      "         receiver_acct_id   receiver_orig_acct_id receiver_nm_address  \\\n",
      "0  2.2262865283490475e+25   2.458078489641657e+25      adres odbiorcy   \n",
      "1   7.941150923413318e+25  2.3330741342044113e+25      adres odbiorcy   \n",
      "2  2.2602642324125118e+25  5.5165413998405507e+25      adres odbiorcy   \n",
      "3  7.5263738368549845e+25  3.9661785846257689e+25      adres odbiorcy   \n",
      "4  5.0741947768683117e+25    8.66683823781185e+25      adres odbiorcy   \n",
      "\n",
      "  gcp_etl_pkg_cd gcp_due_dt  \n",
      "0           None        NaT  \n",
      "1           None        NaT  \n",
      "2           None        NaT  \n",
      "3           None        NaT  \n",
      "4           None        NaT  \n",
      "\n",
      "[5 rows x 46 columns]\n"
     ]
    }
   ],
   "source": [
    "\n",
    "\n",
    "QUERY = f\"\"\"SELECT * FROM `kpr.t11207_crnt_acct_trx_fcd` where DUE_DT = '2021-10-31'\"\"\"\n",
    "\n",
    "job = bqclient.query(QUERY)\n",
    "data = job.to_dataframe()\n",
    "\n",
    "print(data.head())"
   ]
  },
  {
   "cell_type": "code",
   "execution_count": 53,
   "id": "421d0b4a-5276-40ad-b90f-f91adc53ecdf",
   "metadata": {},
   "outputs": [
    {
     "name": "stdout",
     "output_type": "stream",
     "text": [
      "   chnl_cd  counts\n",
      "0        +       8\n",
      "1        3       2\n",
      "2        7     707\n",
      "3        8      26\n",
      "4        A      36\n",
      "5        B     119\n",
      "6        C    1895\n",
      "7        E       8\n",
      "8        I     290\n",
      "9        N      38\n",
      "10       O   35206\n",
      "11       Z       1\n"
     ]
    }
   ],
   "source": [
    "aggr=data.groupby(['chnl_cd']).size().reset_index(name='counts')\n",
    "print(aggr)"
   ]
  },
  {
   "cell_type": "code",
   "execution_count": 54,
   "id": "581e0631-35b5-471f-b381-45e4b3281d28",
   "metadata": {},
   "outputs": [
    {
     "data": {
      "text/plain": [
       "[Text(0.5, 1.0, 'Rozkład transakcji z podziałem na kanał')]"
      ]
     },
     "execution_count": 54,
     "metadata": {},
     "output_type": "execute_result"
    },
    {
     "data": {
      "image/png": "[encoded data removed]",
      "text/plain": [
       "<Figure size 2000x200 with 1 Axes>"
      ]
     },
     "metadata": {},
     "output_type": "display_data"
    }
   ],
   "source": [
    "import seaborn as sns\n",
    "from qbstyles import mpl_style\n",
    "import matplotlib.pyplot as plt\n",
    "mpl_style(dark=True)\n",
    "fig = plt.figure(figsize=(20,2))\n",
    "sns.barplot(aggr, y='counts', x='chnl_cd', palette=['cornflowerblue','steelblue']).set(title='Rozkład transakcji z podziałem na kanał')"
   ]
  },
  {
   "cell_type": "code",
   "execution_count": 55,
   "id": "5734de06-2eee-48ed-b4f4-d5f15a61159b",
   "metadata": {},
   "outputs": [],
   "source": [
    "aggr.to_csv('plik.csv')"
   ]
  },
  {
   "cell_type": "code",
   "execution_count": null,
   "id": "8398c1ff-e9ef-4a91-8f4d-e9c38433a930",
   "metadata": {},
   "outputs": [],
   "source": []
  }
 ],
 "metadata": {
  "environment": {
   "kernel": "python3",
   "name": "common-cpu.m108",
   "type": "gcloud",
   "uri": "gcr.io/deeplearning-platform-release/base-cpu:m108"
  },
  "kernelspec": {
   "display_name": "Python 3",
   "language": "python",
   "name": "python3"
  },
  "language_info": {
   "codemirror_mode": {
    "name": "ipython",
    "version": 3
   },
   "file_extension": ".py",
   "mimetype": "text/x-python",
   "name": "python",
   "nbconvert_exporter": "python",
   "pygments_lexer": "ipython3",
   "version": "3.10.10"
  }
 },
 "nbformat": 4,
 "nbformat_minor": 5
}
